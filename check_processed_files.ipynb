{
 "cells": [
  {
   "cell_type": "markdown",
   "metadata": {},
   "source": [
    "This little script that checks sorted & reprojected files."
   ]
  },
  {
   "cell_type": "code",
   "execution_count": 102,
   "metadata": {},
   "outputs": [],
   "source": [
    "import os\n",
    "import glob\n",
    "import numpy as np\n",
    "import pandas as pd\n",
    "import matplotlib\n",
    "import matplotlib.dates as mdates\n",
    "\n",
    "from eumetsat import get_filesize_megabytes, eumetsat_filename_to_datetime\n",
    "from consts import PATH"
   ]
  },
  {
   "cell_type": "code",
   "execution_count": 2,
   "metadata": {},
   "outputs": [
    {
     "data": {
      "text/plain": [
       "'/storage/data/eumetsat/native/'"
      ]
     },
     "execution_count": 2,
     "metadata": {},
     "output_type": "execute_result"
    }
   ],
   "source": [
    "PATH"
   ]
  },
  {
   "cell_type": "code",
   "execution_count": 3,
   "metadata": {},
   "outputs": [],
   "source": [
    "# The directory containing the tar files downloaded from EUMETSAT\n",
    "SORTED_PATH = os.path.join(PATH, 'sorted')"
   ]
  },
  {
   "cell_type": "code",
   "execution_count": 65,
   "metadata": {},
   "outputs": [],
   "source": [
    "walk_iterator = os.walk(SORTED_PATH)"
   ]
  },
  {
   "cell_type": "code",
   "execution_count": 66,
   "metadata": {},
   "outputs": [
    {
     "name": "stdout",
     "output_type": "stream",
     "text": [
      "CPU times: user 1.17 s, sys: 6.79 s, total: 7.96 s\n",
      "Wall time: 22.8 s\n"
     ]
    }
   ],
   "source": [
    "%%time\n",
    "filenames = []\n",
    "#i = 0\n",
    "for filename in (fnames for _, _, fnames in walk_iterator):\n",
    "    filenames.extend(filename)\n",
    "    #i += 1\n",
    "    #if i > 1000:\n",
    "    #    break"
   ]
  },
  {
   "cell_type": "code",
   "execution_count": 67,
   "metadata": {},
   "outputs": [],
   "source": [
    "datetimes = [eumetsat_filename_to_datetime(file) for file in filenames]"
   ]
  },
  {
   "cell_type": "code",
   "execution_count": 68,
   "metadata": {},
   "outputs": [],
   "source": [
    "datetimes = pd.DatetimeIndex(np.sort(datetimes))"
   ]
  },
  {
   "cell_type": "code",
   "execution_count": 94,
   "metadata": {},
   "outputs": [],
   "source": [
    "series = pd.Series(1, index=datetimes).resample('5T').sum()"
   ]
  },
  {
   "cell_type": "code",
   "execution_count": 95,
   "metadata": {},
   "outputs": [
    {
     "data": {
      "text/plain": [
       "113700"
      ]
     },
     "execution_count": 95,
     "metadata": {},
     "output_type": "execute_result"
    }
   ],
   "source": [
    "len(series)"
   ]
  },
  {
   "cell_type": "code",
   "execution_count": 96,
   "metadata": {},
   "outputs": [
    {
     "data": {
      "text/plain": [
       "2018-06-01 02:00:00    1\n",
       "2018-06-01 02:05:00    1\n",
       "2018-06-01 02:10:00    1\n",
       "2018-06-01 02:15:00    1\n",
       "2018-06-01 02:20:00    1\n",
       "2018-06-01 02:25:00    1\n",
       "2018-06-01 02:30:00    1\n",
       "2018-06-01 02:35:00    1\n",
       "2018-06-01 02:40:00    1\n",
       "2018-06-01 02:45:00    1\n",
       "2018-06-01 02:50:00    1\n",
       "2018-06-01 02:55:00    1\n",
       "2018-06-01 03:00:00    1\n",
       "Freq: 5T, dtype: int64"
      ]
     },
     "execution_count": 96,
     "metadata": {},
     "output_type": "execute_result"
    }
   ],
   "source": [
    "series.head(13)"
   ]
  },
  {
   "cell_type": "code",
   "execution_count": 84,
   "metadata": {},
   "outputs": [
    {
     "data": {
      "text/plain": [
       "2"
      ]
     },
     "execution_count": 84,
     "metadata": {},
     "output_type": "execute_result"
    }
   ],
   "source": [
    "series.max()"
   ]
  },
  {
   "cell_type": "code",
   "execution_count": 85,
   "metadata": {},
   "outputs": [
    {
     "data": {
      "text/plain": [
       "2018-07-01 03:25:00    2\n",
       "2018-07-01 03:30:00    2\n",
       "2018-07-01 03:35:00    2\n",
       "2018-07-01 03:40:00    2\n",
       "2018-07-01 03:45:00    2\n",
       "                      ..\n",
       "2018-07-31 20:40:00    2\n",
       "2018-07-31 20:45:00    2\n",
       "2018-07-31 20:50:00    2\n",
       "2018-07-31 20:55:00    2\n",
       "2019-01-01 12:00:00    2\n",
       "Length: 7038, dtype: int64"
      ]
     },
     "execution_count": 85,
     "metadata": {},
     "output_type": "execute_result"
    }
   ],
   "source": [
    "# TODO: Look into these duplicates!\n",
    "# If they really are duplicates then remove the duplicates.\n",
    "# And modify sort_and_compress code so it doesn't create duplicates (maybe have an option\n",
    "# to either overwrite the old copy (if the user believes the old copy has bad data),\n",
    "# or don't bother creating a new bz2 file if one already exists!\n",
    "series[series > 1]"
   ]
  },
  {
   "cell_type": "code",
   "execution_count": 98,
   "metadata": {},
   "outputs": [],
   "source": [
    "START_HOUR = 3\n",
    "END_HOUR = 21\n",
    "series = series[(series.index.hour >= START_HOUR) & (series.index.hour < END_HOUR)]"
   ]
  },
  {
   "cell_type": "code",
   "execution_count": 105,
   "metadata": {},
   "outputs": [
    {
     "data": {
      "text/plain": [
       "DatetimeIndex(['2018-06-13 14:30:00', '2018-06-13 14:35:00',\n",
       "               '2018-06-18 08:25:00', '2018-06-20 09:20:00',\n",
       "               '2018-06-20 09:25:00', '2018-06-20 09:30:00',\n",
       "               '2018-06-20 09:35:00', '2018-06-20 09:40:00',\n",
       "               '2018-07-01 03:00:00', '2018-07-01 03:05:00',\n",
       "               ...\n",
       "               '2019-05-29 05:20:00', '2019-05-29 05:25:00',\n",
       "               '2019-05-29 05:30:00', '2019-05-29 05:35:00',\n",
       "               '2019-05-29 05:40:00', '2019-05-29 05:45:00',\n",
       "               '2019-05-29 05:50:00', '2019-05-29 05:55:00',\n",
       "               '2019-05-29 06:00:00', '2019-05-29 06:05:00'],\n",
       "              dtype='datetime64[ns]', length=6964, freq=None)"
      ]
     },
     "execution_count": 105,
     "metadata": {},
     "output_type": "execute_result"
    }
   ],
   "source": [
    "missing_data = series[series == 0].index\n",
    "missing_data"
   ]
  },
  {
   "cell_type": "code",
   "execution_count": 108,
   "metadata": {},
   "outputs": [
    {
     "data": {
      "text/plain": [
       "array([datetime.date(2018, 6, 13), datetime.date(2018, 6, 18),\n",
       "       datetime.date(2018, 6, 20), datetime.date(2018, 7, 1),\n",
       "       datetime.date(2018, 7, 2), datetime.date(2018, 7, 17),\n",
       "       datetime.date(2018, 8, 24), datetime.date(2018, 9, 3),\n",
       "       datetime.date(2018, 9, 4), datetime.date(2018, 9, 5),\n",
       "       datetime.date(2018, 10, 1), datetime.date(2018, 10, 2),\n",
       "       datetime.date(2018, 10, 3), datetime.date(2018, 10, 4),\n",
       "       datetime.date(2018, 10, 5), datetime.date(2018, 10, 6),\n",
       "       datetime.date(2018, 10, 7), datetime.date(2018, 10, 8),\n",
       "       datetime.date(2018, 10, 9), datetime.date(2018, 10, 10),\n",
       "       datetime.date(2018, 10, 11), datetime.date(2018, 10, 12),\n",
       "       datetime.date(2018, 10, 13), datetime.date(2018, 10, 14),\n",
       "       datetime.date(2018, 10, 15), datetime.date(2018, 10, 16),\n",
       "       datetime.date(2018, 10, 17), datetime.date(2018, 10, 18),\n",
       "       datetime.date(2018, 10, 19), datetime.date(2018, 10, 20),\n",
       "       datetime.date(2018, 10, 21), datetime.date(2018, 10, 22),\n",
       "       datetime.date(2018, 10, 23), datetime.date(2018, 10, 24),\n",
       "       datetime.date(2018, 10, 25), datetime.date(2018, 10, 26),\n",
       "       datetime.date(2018, 10, 27), datetime.date(2018, 10, 28),\n",
       "       datetime.date(2018, 10, 29), datetime.date(2018, 10, 30),\n",
       "       datetime.date(2018, 10, 31), datetime.date(2018, 11, 11),\n",
       "       datetime.date(2018, 11, 22), datetime.date(2018, 11, 30),\n",
       "       datetime.date(2019, 3, 3), datetime.date(2019, 3, 11),\n",
       "       datetime.date(2019, 3, 12), datetime.date(2019, 4, 12),\n",
       "       datetime.date(2019, 5, 6), datetime.date(2019, 5, 18),\n",
       "       datetime.date(2019, 5, 20), datetime.date(2019, 5, 22),\n",
       "       datetime.date(2019, 5, 24), datetime.date(2019, 5, 27),\n",
       "       datetime.date(2019, 5, 28), datetime.date(2019, 5, 29)],\n",
       "      dtype=object)"
      ]
     },
     "execution_count": 108,
     "metadata": {},
     "output_type": "execute_result"
    }
   ],
   "source": [
    "missing_days = np.unique(missing_data.date)\n",
    "missing_days"
   ]
  },
  {
   "cell_type": "code",
   "execution_count": 110,
   "metadata": {},
   "outputs": [
    {
     "data": {
      "text/plain": [
       "56"
      ]
     },
     "execution_count": 110,
     "metadata": {},
     "output_type": "execute_result"
    }
   ],
   "source": [
    "len(missing_days)"
   ]
  },
  {
   "cell_type": "code",
   "execution_count": 109,
   "metadata": {},
   "outputs": [
    {
     "data": {
      "text/plain": [
       "2018-06-13 14:00:00     2\n",
       "2018-06-18 08:00:00     1\n",
       "2018-06-20 09:00:00     5\n",
       "2018-07-01 03:00:00     5\n",
       "2018-07-01 04:00:00     7\n",
       "                       ..\n",
       "2019-05-28 13:00:00     6\n",
       "2019-05-29 03:00:00    12\n",
       "2019-05-29 04:00:00    12\n",
       "2019-05-29 05:00:00    12\n",
       "2019-05-29 06:00:00     2\n",
       "Length: 607, dtype: int64"
      ]
     },
     "execution_count": 109,
     "metadata": {},
     "output_type": "execute_result"
    }
   ],
   "source": [
    "missing_hours = pd.Series(1, index=missing_data).resample('H').sum()\n",
    "missing_hours[missing_hours > 0]"
   ]
  },
  {
   "cell_type": "code",
   "execution_count": 103,
   "metadata": {},
   "outputs": [
    {
     "data": {
      "image/png": "[encoded data removed]",
      "text/plain": [
       "<Figure size 1440x720 with 1 Axes>"
      ]
     },
     "metadata": {
      "needs_background": "light"
     },
     "output_type": "display_data"
    }
   ],
   "source": [
    "ax = series.plot(figsize=(20, 10))\n",
    "ax.set_title('0 means missing data.  1 means good.  > 1 means duplicates.')\n",
    "ax.xaxis.set_major_locator(mdates.MonthLocator())"
   ]
  }
 ],
 "metadata": {
  "kernelspec": {
   "display_name": "eumetsat",
   "language": "python",
   "name": "eumetsat"
  },
  "language_info": {
   "codemirror_mode": {
    "name": "ipython",
    "version": 3
   },
   "file_extension": ".py",
   "mimetype": "text/x-python",
   "name": "python",
   "nbconvert_exporter": "python",
   "pygments_lexer": "ipython3",
   "version": "3.7.6"
  }
 },
 "nbformat": 4,
 "nbformat_minor": 4
}
