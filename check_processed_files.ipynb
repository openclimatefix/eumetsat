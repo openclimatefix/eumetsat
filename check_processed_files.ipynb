{
 "cells": [
  {
   "cell_type": "markdown",
   "metadata": {},
   "source": [
    "This little script that checks sorted & reprojected files."
   ]
  },
  {
   "cell_type": "code",
   "execution_count": 1,
   "metadata": {},
   "outputs": [],
   "source": [
    "import os\n",
    "import glob\n",
    "import numpy as np\n",
    "import pandas as pd\n",
    "import matplotlib\n",
    "import matplotlib.dates as mdates\n",
    "\n",
    "from eumetsat import get_filesize_megabytes, eumetsat_filename_to_datetime\n",
    "from consts import PATH"
   ]
  },
  {
   "cell_type": "code",
   "execution_count": 2,
   "metadata": {},
   "outputs": [
    {
     "data": {
      "text/plain": [
       "'/storage/data/eumetsat/native/'"
      ]
     },
     "execution_count": 2,
     "metadata": {},
     "output_type": "execute_result"
    }
   ],
   "source": [
    "PATH"
   ]
  },
  {
   "cell_type": "code",
   "execution_count": 3,
   "metadata": {},
   "outputs": [],
   "source": [
    "# The directory containing the tar files downloaded from EUMETSAT\n",
    "SORTED_PATH = os.path.join(PATH, 'sorted')"
   ]
  },
  {
   "cell_type": "code",
   "execution_count": 4,
   "metadata": {},
   "outputs": [],
   "source": [
    "walk_iterator = os.walk(SORTED_PATH)"
   ]
  },
  {
   "cell_type": "code",
   "execution_count": 5,
   "metadata": {},
   "outputs": [
    {
     "name": "stdout",
     "output_type": "stream",
     "text": [
      "CPU times: user 6.75 s, sys: 28.2 s, total: 35 s\n",
      "Wall time: 43min 55s\n"
     ]
    }
   ],
   "source": [
    "%%time\n",
    "filenames = []\n",
    "for filename in (fnames for _, _, fnames in walk_iterator):\n",
    "    filenames.extend(filename)"
   ]
  },
  {
   "cell_type": "code",
   "execution_count": 6,
   "metadata": {},
   "outputs": [],
   "source": [
    "datetimes = [eumetsat_filename_to_datetime(file) for file in filenames]"
   ]
  },
  {
   "cell_type": "code",
   "execution_count": 7,
   "metadata": {},
   "outputs": [],
   "source": [
    "datetimes = pd.DatetimeIndex(np.sort(datetimes))"
   ]
  },
  {
   "cell_type": "code",
   "execution_count": 30,
   "metadata": {},
   "outputs": [
    {
     "data": {
      "text/plain": [
       "94645"
      ]
     },
     "execution_count": 30,
     "metadata": {},
     "output_type": "execute_result"
    }
   ],
   "source": [
    "len(datetimes)"
   ]
  },
  {
   "cell_type": "code",
   "execution_count": 8,
   "metadata": {},
   "outputs": [],
   "source": [
    "series = pd.Series(1, index=datetimes).resample('5T').sum()"
   ]
  },
  {
   "cell_type": "code",
   "execution_count": 9,
   "metadata": {},
   "outputs": [
    {
     "data": {
      "text/plain": [
       "113700"
      ]
     },
     "execution_count": 9,
     "metadata": {},
     "output_type": "execute_result"
    }
   ],
   "source": [
    "len(series)"
   ]
  },
  {
   "cell_type": "code",
   "execution_count": 10,
   "metadata": {},
   "outputs": [
    {
     "data": {
      "text/plain": [
       "2018-06-01 02:00:00    1\n",
       "2018-06-01 02:05:00    1\n",
       "2018-06-01 02:10:00    1\n",
       "2018-06-01 02:15:00    1\n",
       "2018-06-01 02:20:00    1\n",
       "2018-06-01 02:25:00    1\n",
       "2018-06-01 02:30:00    1\n",
       "2018-06-01 02:35:00    1\n",
       "2018-06-01 02:40:00    1\n",
       "2018-06-01 02:45:00    1\n",
       "2018-06-01 02:50:00    1\n",
       "2018-06-01 02:55:00    1\n",
       "2018-06-01 03:00:00    1\n",
       "Freq: 5T, dtype: int64"
      ]
     },
     "execution_count": 10,
     "metadata": {},
     "output_type": "execute_result"
    }
   ],
   "source": [
    "series.head(13)"
   ]
  },
  {
   "cell_type": "code",
   "execution_count": 11,
   "metadata": {},
   "outputs": [
    {
     "data": {
      "text/plain": [
       "2"
      ]
     },
     "execution_count": 11,
     "metadata": {},
     "output_type": "execute_result"
    }
   ],
   "source": [
    "series.max()"
   ]
  },
  {
   "cell_type": "code",
   "execution_count": 12,
   "metadata": {},
   "outputs": [
    {
     "data": {
      "text/plain": [
       "2018-07-01 03:25:00    2\n",
       "2018-07-01 03:30:00    2\n",
       "2018-07-01 03:35:00    2\n",
       "2018-07-01 03:40:00    2\n",
       "2018-07-01 03:45:00    2\n",
       "                      ..\n",
       "2018-07-31 20:40:00    2\n",
       "2018-07-31 20:45:00    2\n",
       "2018-07-31 20:50:00    2\n",
       "2018-07-31 20:55:00    2\n",
       "2019-01-01 12:00:00    2\n",
       "Length: 7038, dtype: int64"
      ]
     },
     "execution_count": 12,
     "metadata": {},
     "output_type": "execute_result"
    }
   ],
   "source": [
    "# TODO: Look into these duplicates!\n",
    "# If they really are duplicates then remove the duplicates.\n",
    "# And modify sort_and_compress code so it doesn't create duplicates (maybe have an option\n",
    "# to either overwrite the old copy (if the user believes the old copy has bad data),\n",
    "# or don't bother creating a new bz2 file if one already exists!\n",
    "series[series > 1]"
   ]
  },
  {
   "cell_type": "code",
   "execution_count": 13,
   "metadata": {},
   "outputs": [],
   "source": [
    "START_HOUR = 3\n",
    "END_HOUR = 21\n",
    "series = series[(series.index.hour >= START_HOUR) & (series.index.hour < END_HOUR)]"
   ]
  },
  {
   "cell_type": "code",
   "execution_count": 14,
   "metadata": {},
   "outputs": [
    {
     "data": {
      "text/plain": [
       "DatetimeIndex(['2018-06-13 14:30:00', '2018-06-13 14:35:00',\n",
       "               '2018-06-18 08:25:00', '2018-06-20 09:20:00',\n",
       "               '2018-06-20 09:25:00', '2018-06-20 09:30:00',\n",
       "               '2018-06-20 09:35:00', '2018-06-20 09:40:00',\n",
       "               '2018-07-01 03:00:00', '2018-07-01 03:05:00',\n",
       "               ...\n",
       "               '2019-05-29 05:20:00', '2019-05-29 05:25:00',\n",
       "               '2019-05-29 05:30:00', '2019-05-29 05:35:00',\n",
       "               '2019-05-29 05:40:00', '2019-05-29 05:45:00',\n",
       "               '2019-05-29 05:50:00', '2019-05-29 05:55:00',\n",
       "               '2019-05-29 06:00:00', '2019-05-29 06:05:00'],\n",
       "              dtype='datetime64[ns]', length=269, freq=None)"
      ]
     },
     "execution_count": 14,
     "metadata": {},
     "output_type": "execute_result"
    }
   ],
   "source": [
    "missing_data = series[series == 0].index\n",
    "missing_data"
   ]
  },
  {
   "cell_type": "code",
   "execution_count": 34,
   "metadata": {},
   "outputs": [],
   "source": [
    "pd.Series(\n",
    "    series[series == 0].index).to_csv(\n",
    "    '/home/jack/dev/python/openclimatefix/solar/eumetsat/missing_eumetsat_images.csv', \n",
    "    header=False, index=False)"
   ]
  },
  {
   "cell_type": "code",
   "execution_count": 15,
   "metadata": {},
   "outputs": [
    {
     "data": {
      "text/plain": [
       "array([datetime.date(2018, 6, 13), datetime.date(2018, 6, 18),\n",
       "       datetime.date(2018, 6, 20), datetime.date(2018, 7, 1),\n",
       "       datetime.date(2018, 7, 2), datetime.date(2018, 7, 17),\n",
       "       datetime.date(2018, 8, 24), datetime.date(2018, 9, 3),\n",
       "       datetime.date(2018, 9, 4), datetime.date(2018, 9, 5),\n",
       "       datetime.date(2018, 10, 11), datetime.date(2018, 11, 11),\n",
       "       datetime.date(2018, 11, 22), datetime.date(2018, 11, 30),\n",
       "       datetime.date(2019, 3, 3), datetime.date(2019, 3, 11),\n",
       "       datetime.date(2019, 3, 12), datetime.date(2019, 4, 12),\n",
       "       datetime.date(2019, 5, 6), datetime.date(2019, 5, 18),\n",
       "       datetime.date(2019, 5, 20), datetime.date(2019, 5, 22),\n",
       "       datetime.date(2019, 5, 24), datetime.date(2019, 5, 27),\n",
       "       datetime.date(2019, 5, 28), datetime.date(2019, 5, 29)],\n",
       "      dtype=object)"
      ]
     },
     "execution_count": 15,
     "metadata": {},
     "output_type": "execute_result"
    }
   ],
   "source": [
    "missing_days = np.unique(missing_data.date)\n",
    "missing_days"
   ]
  },
  {
   "cell_type": "code",
   "execution_count": 25,
   "metadata": {},
   "outputs": [
    {
     "data": {
      "text/plain": [
       "DatetimeIndex(['2019-05-29 03:00:00', '2019-05-29 03:05:00',\n",
       "               '2019-05-29 03:10:00', '2019-05-29 03:15:00',\n",
       "               '2019-05-29 03:20:00', '2019-05-29 03:25:00',\n",
       "               '2019-05-29 03:30:00', '2019-05-29 03:35:00',\n",
       "               '2019-05-29 03:40:00', '2019-05-29 03:45:00',\n",
       "               '2019-05-29 03:50:00', '2019-05-29 03:55:00',\n",
       "               '2019-05-29 04:00:00', '2019-05-29 04:05:00',\n",
       "               '2019-05-29 04:10:00', '2019-05-29 04:15:00',\n",
       "               '2019-05-29 04:20:00', '2019-05-29 04:25:00',\n",
       "               '2019-05-29 04:30:00', '2019-05-29 04:35:00',\n",
       "               '2019-05-29 04:40:00', '2019-05-29 04:45:00',\n",
       "               '2019-05-29 04:50:00', '2019-05-29 04:55:00',\n",
       "               '2019-05-29 05:00:00', '2019-05-29 05:05:00',\n",
       "               '2019-05-29 05:10:00', '2019-05-29 05:15:00',\n",
       "               '2019-05-29 05:20:00', '2019-05-29 05:25:00',\n",
       "               '2019-05-29 05:30:00', '2019-05-29 05:35:00',\n",
       "               '2019-05-29 05:40:00', '2019-05-29 05:45:00',\n",
       "               '2019-05-29 05:50:00', '2019-05-29 05:55:00',\n",
       "               '2019-05-29 06:00:00', '2019-05-29 06:05:00'],\n",
       "              dtype='datetime64[ns]', freq=None)"
      ]
     },
     "execution_count": 25,
     "metadata": {},
     "output_type": "execute_result"
    }
   ],
   "source": [
    "series[series == 0][\"2019-05-29\"].index"
   ]
  },
  {
   "cell_type": "code",
   "execution_count": 16,
   "metadata": {},
   "outputs": [
    {
     "data": {
      "text/plain": [
       "26"
      ]
     },
     "execution_count": 16,
     "metadata": {},
     "output_type": "execute_result"
    }
   ],
   "source": [
    "len(missing_days)"
   ]
  },
  {
   "cell_type": "code",
   "execution_count": 19,
   "metadata": {},
   "outputs": [],
   "source": [
    "missing_hours = pd.Series(1, index=missing_data).resample('H').sum()\n",
    "# missing_hours[missing_hours > 0]"
   ]
  },
  {
   "cell_type": "code",
   "execution_count": 28,
   "metadata": {},
   "outputs": [
    {
     "data": {
      "image/png": "[encoded data removed]",
      "text/plain": [
       "<Figure size 1800x720 with 1 Axes>"
      ]
     },
     "metadata": {
      "needs_background": "light"
     },
     "output_type": "display_data"
    }
   ],
   "source": [
    "ax = series.clip(upper=1).plot(figsize=(25, 10))\n",
    "ax.set_title('0 means missing data.  1 means good.')  #   > 1 means duplicates.\n",
    "ax.xaxis.set_major_locator(mdates.MonthLocator())"
   ]
  },
  {
   "cell_type": "code",
   "execution_count": null,
   "metadata": {},
   "outputs": [],
   "source": [
    "MISSING_FROM_EUMETSAT = [\n",
    "    \"2018-06-13 14:30\",\n",
    "    \"2018-06-13 14:35\",\n",
    "    \"2018-06-18 08:25\",\n",
    "    '2018-06-20 09:20:00',\n",
    "    '2018-06-20 09:25:00', \n",
    "    '2018-06-20 09:30:00',\n",
    "    '2018-06-20 09:35:00', \n",
    "    '2018-06-20 09:40:00',\n",
    "    '2018-07-01 03:00:00', '2018-07-01 03:05:00',\n",
    "               '2018-07-01 03:10:00', '2018-07-01 03:15:00',\n",
    "               '2018-07-01 03:20:00', '2018-07-01 04:10:00',\n",
    "               '2018-07-01 04:20:00', '2018-07-01 04:25:00',\n",
    "               '2018-07-01 04:30:00', '2018-07-01 04:35:00',\n",
    "               '2018-07-01 04:40:00', '2018-07-01 04:45:00',\n",
    "               '2018-07-01 05:05:00', '2018-07-01 05:10:00',\n",
    "               '2018-07-01 05:15:00',\n",
    "    '2019-05-29 03:00:00', '2019-05-29 03:05:00',\n",
    "               '2019-05-29 03:10:00', '2019-05-29 03:15:00',\n",
    "               '2019-05-29 03:20:00', '2019-05-29 03:25:00',\n",
    "               '2019-05-29 03:30:00', '2019-05-29 03:35:00',\n",
    "               '2019-05-29 03:40:00', '2019-05-29 03:45:00',\n",
    "               '2019-05-29 03:50:00', '2019-05-29 03:55:00',\n",
    "               '2019-05-29 04:00:00', '2019-05-29 04:05:00',\n",
    "               '2019-05-29 04:10:00', '2019-05-29 04:15:00',\n",
    "               '2019-05-29 04:20:00', '2019-05-29 04:25:00',\n",
    "               '2019-05-29 04:30:00', '2019-05-29 04:35:00',\n",
    "               '2019-05-29 04:40:00', '2019-05-29 04:45:00',\n",
    "               '2019-05-29 04:50:00', '2019-05-29 04:55:00',\n",
    "               '2019-05-29 05:00:00', '2019-05-29 05:05:00',\n",
    "               '2019-05-29 05:10:00', '2019-05-29 05:15:00',\n",
    "               '2019-05-29 05:20:00', '2019-05-29 05:25:00',\n",
    "               '2019-05-29 05:30:00', '2019-05-29 05:35:00',\n",
    "               '2019-05-29 05:40:00', '2019-05-29 05:45:00',\n",
    "               '2019-05-29 05:50:00', '2019-05-29 05:55:00',\n",
    "               '2019-05-29 06:00:00', '2019-05-29 06:05:00'\n",
    "]"
   ]
  }
 ],
 "metadata": {
  "kernelspec": {
   "display_name": "eumetsat",
   "language": "python",
   "name": "eumetsat"
  },
  "language_info": {
   "codemirror_mode": {
    "name": "ipython",
    "version": 3
   },
   "file_extension": ".py",
   "mimetype": "text/x-python",
   "name": "python",
   "nbconvert_exporter": "python",
   "pygments_lexer": "ipython3",
   "version": "3.7.6"
  }
 },
 "nbformat": 4,
 "nbformat_minor": 4
}
